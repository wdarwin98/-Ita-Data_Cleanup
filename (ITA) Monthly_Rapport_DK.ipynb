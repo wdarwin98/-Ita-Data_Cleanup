{
 "cells": [
  {
   "cell_type": "markdown",
   "id": "875864dc",
   "metadata": {},
   "source": [
    "**Consolidated Monthly Rapport for DK**\n",
    "\n",
    "This code generates the Monthly Rapport for DK"
   ]
  },
  {
   "cell_type": "code",
   "execution_count": null,
   "id": "61b9d359",
   "metadata": {},
   "outputs": [
    {
     "ename": "SyntaxError",
     "evalue": "unterminated string literal (detected at line 3) (1039494101.py, line 3)",
     "output_type": "error",
     "traceback": [
      "\u001b[1;36m  Cell \u001b[1;32mIn[3], line 3\u001b[1;36m\u001b[0m\n\u001b[1;33m    shipments = shipments.read_csv(r'C:\\Users\\USER\\OneDrive\\Documents\\House of Analytics\\ITA\\-Ita-Data_Cleanup\\Shipments_Consolidated.csv)\u001b[0m\n\u001b[1;37m                                   ^\u001b[0m\n\u001b[1;31mSyntaxError\u001b[0m\u001b[1;31m:\u001b[0m unterminated string literal (detected at line 3)\n"
     ]
    }
   ],
   "source": [
    "# Define the file path for Shipments Out\n",
    "# Replace the path with the actual path to your Shipments Consolidated file\n",
    "shipments = shipments.read_csv(r'C:\\Users\\USER\\OneDrive\\Documents\\House of Analytics\\ITA\\-Ita-Data_Cleanup\\Shipments_Consolidated.csv')\n",
    "\n",
    "# Define the file path for Goods In\n",
    "# Replace the path with the actual path to your Inbound Orderline file\n",
    "inbound = inbound.read_excel(r'C:\\Users\\USER\\OneDrive\\Documents\\House of Analytics\\ITA\\-Ita-Data_Cleanup\\(ITA) Aug Inbound Order Line.xlsx')\n",
    "\n",
    "# Define the file path for Moved to Production\n",
    "# Replace the path with the actual path to your Production file\n",
    "production = production.read_csv(r'C:\\Users\\USER\\OneDrive\\Documents\\House of Analytics\\ITA\\-Ita-Data_Cleanup\\Production_Consolidated.csv')\n",
    "\n",
    "# Define the file path for Inbound from Production\n",
    "# Replace the path with the actual path to your Inbound from Production file\n",
    "inbound_prod = inbound_prod.read_excel(r'C:\\Users\\USER\\OneDrive\\Documents\\House of Analytics\\ITA\\-Ita-Data_Cleanup\\(ITA) Aug Inbound from Production.xlsx')\n",
    "\n",
    "# Define the file path for Inventor Ultimo\n",
    "# Replace the path with the actual path to your Inventory Consolidated file\n",
    "inventory = inventory.read_csv(r'')"
   ]
  },
  {
   "cell_type": "code",
   "execution_count": null,
   "id": "66985b6e",
   "metadata": {},
   "outputs": [],
   "source": [
    "# Groupby to create summary tables\n",
    "goods_in = inbound.groupby(\"Varenummer\")[\"Mængde modtaget\"].sum().reset_index()\n",
    "moved_to_prod = production.groupby(\"ItemNumber\")[\"QuantityProduced\"].sum().reset_index()\n",
    "inbound_from_prod = inbound_prod.groupby(\"ItemNumber\")[\"QuantityPacked\"].sum().reset_index()\n",
    "shipments_out = shipments.groupby(\"ItemNumber\")[\"QuantityPacked\"].sum().reset_index()"
   ]
  },
  {
   "cell_type": "code",
   "execution_count": null,
   "id": "e833622b",
   "metadata": {},
   "outputs": [],
   "source": [
    "# Merge all summary tables into a single report\n",
    "\n",
    "report = goods_in.merge(moved_to_prod, on=\"SKU\", how=\"outer\") \\\n",
    "                 .merge(inbound_from_prod, on=\"SKU\", how=\"outer\") \\\n",
    "                 .merge(shipments_out, on=\"SKU\", how=\"outer\")"
   ]
  },
  {
   "cell_type": "code",
   "execution_count": 5,
   "id": "4187c2a8",
   "metadata": {},
   "outputs": [
    {
     "name": "stdout",
     "output_type": "stream",
     "text": [
      "Saved to: C:\\Users\\USER\\OneDrive\\Documents\\House of Analytics\\ITA\\-Ita-Data_Cleanup\\SKU_Flow_Report.csv\n"
     ]
    }
   ],
   "source": [
    "import pandas as pd\n",
    "from pathlib import Path\n",
    "\n",
    "# --- File paths (edit if needed) ---\n",
    "base = Path(r\"C:\\Users\\USER\\OneDrive\\Documents\\House of Analytics\\ITA\\-Ita-Data_Cleanup\")\n",
    "\n",
    "shipments_path = base / \"Shipments_Consolidated.csv\"\n",
    "inbound_order_path = base / \"2025-09-02T03_44_52_230_inboundOrderLine (3).xlsx\"\n",
    "production_path = base / \"Production_Consolidated.csv\"\n",
    "inbound_from_prod_path = base / \"(ITA) Inbound from Production.xlsx\"\n",
    "\n",
    "# --- Load files ---\n",
    "shipments = pd.read_csv(shipments_path)\n",
    "\n",
    "# inbound order line (Excel, single sheet: 'inboundOrderLine')\n",
    "inbound = pd.read_excel(inbound_order_path, sheet_name=\"inboundOrderLine\", engine=\"openpyxl\")\n",
    "\n",
    "# production consolidated (CSV)\n",
    "production = pd.read_csv(production_path)\n",
    "\n",
    "# inbound from production (Excel, two sheets: DK + DE) -> concat\n",
    "inbound_prod_dk = pd.read_excel(inbound_from_prod_path, sheet_name=\"Aug25 Prod Order-DK\", engine=\"openpyxl\")\n",
    "inbound_prod_de = pd.read_excel(inbound_from_prod_path, sheet_name=\"Aug25 Prod Order - DE\", engine=\"openpyxl\")\n",
    "inbound_prod = pd.concat([inbound_prod_dk, inbound_prod_de], ignore_index=True)\n",
    "\n",
    "# --- Aggregations (SUMIF-by-SKU) ---\n",
    "goods_in = (\n",
    "    inbound.groupby(\"Varenummer\", dropna=False)[\"Mængde modtaget\"]\n",
    "    .sum()\n",
    "    .reset_index()\n",
    "    .rename(columns={\"Varenummer\": \"SKU\", \"Mængde modtaget\": \"Goods In\"})\n",
    ")\n",
    "\n",
    "moved_to_production = (\n",
    "    production.groupby(\"ItemNumber\", dropna=False)[\"QuantityProduced\"]\n",
    "    .sum()\n",
    "    .reset_index()\n",
    "    .rename(columns={\"ItemNumber\": \"SKU\", \"QuantityProduced\": \"Moved to Production\"})\n",
    ")\n",
    "\n",
    "inbound_from_production = (\n",
    "    inbound_prod.groupby(\"ItemNumber\", dropna=False)[\"QuantityPacked\"]\n",
    "    .sum()\n",
    "    .reset_index()\n",
    "    .rename(columns={\"ItemNumber\": \"SKU\", \"QuantityPacked\": \"Inbound from Production\"})\n",
    ")\n",
    "\n",
    "shipments_out = (\n",
    "    shipments.groupby(\"ItemNumber\", dropna=False)[\"QuantityPacked\"]\n",
    "    .sum()\n",
    "    .reset_index()\n",
    "    .rename(columns={\"ItemNumber\": \"SKU\", \"QuantityPacked\": \"Shipments Out\"})\n",
    ")\n",
    "\n",
    "# --- Merge into one report ---\n",
    "report = (\n",
    "    goods_in\n",
    "    .merge(moved_to_production, on=\"SKU\", how=\"outer\")\n",
    "    .merge(inbound_from_production, on=\"SKU\", how=\"outer\")\n",
    "    .merge(shipments_out, on=\"SKU\", how=\"outer\")\n",
    ")\n",
    "\n",
    "# Fill missing numeric values\n",
    "for col in [\"Goods In\", \"Moved to Production\", \"Inbound from Production\", \"Shipments Out\"]:\n",
    "    if col in report.columns:\n",
    "        report[col] = report[col].fillna(0)\n",
    "\n",
    "# Optional extra columns (remove if you only want the four sums)\n",
    "report[\"In Production\"] = report[\"Moved to Production\"] - report[\"Inbound from Production\"]  # WIP proxy\n",
    "report[\"Serial no.\"] = pd.NA   # placeholder\n",
    "report[\"Variance\"] = 0         # placeholder\n",
    "report[\"Inventory ULTIMO\"] = report[\"Goods In\"] + report[\"Inbound from Production\"] - report[\"Shipments Out\"]\n",
    "\n",
    "# Choose/Order columns\n",
    "cols = [\n",
    "    \"SKU\", \"Goods In\", \"Moved to Production\", \"In Production\",\n",
    "    \"Inbound from Production\", \"Shipments Out\", \"Serial no.\",\n",
    "    \"Variance\", \"Inventory ULTIMO\"\n",
    "]\n",
    "report = report[[c for c in cols if c in report.columns]].sort_values(\"SKU\", kind=\"stable\")\n",
    "\n",
    "# Save\n",
    "out_path = base / \"SKU_Flow_Report.csv\"\n",
    "report.to_csv(out_path, index=False, encoding=\"utf-8-sig\")\n",
    "print(f\"Saved to: {out_path}\")\n"
   ]
  },
  {
   "cell_type": "code",
   "execution_count": null,
   "id": "74d37874",
   "metadata": {},
   "outputs": [],
   "source": []
  }
 ],
 "metadata": {
  "kernelspec": {
   "display_name": "Python 3",
   "language": "python",
   "name": "python3"
  },
  "language_info": {
   "codemirror_mode": {
    "name": "ipython",
    "version": 3
   },
   "file_extension": ".py",
   "mimetype": "text/x-python",
   "name": "python",
   "nbconvert_exporter": "python",
   "pygments_lexer": "ipython3",
   "version": "3.10.6"
  }
 },
 "nbformat": 4,
 "nbformat_minor": 5
}
